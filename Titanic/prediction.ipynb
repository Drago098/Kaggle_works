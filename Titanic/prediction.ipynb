{
 "cells": [
  {
   "cell_type": "code",
   "execution_count": null,
   "source": [
    "import numpy as np\n",
    "import pandas as pd"
   ],
   "outputs": [],
   "metadata": {}
  },
  {
   "cell_type": "code",
   "execution_count": null,
   "source": [
    "train = pd.read_csv(\"/Users/mac/Downloads/titanic/train.csv\")\n",
    "test = pd.read_csv(\"/Users/mac/Downloads/titanic/test.csv\")\n",
    "test_ids = test[\"PassengerId\"]"
   ],
   "outputs": [],
   "metadata": {}
  },
  {
   "cell_type": "code",
   "execution_count": null,
   "source": [
    "def clean(train):\n",
    "    train = train.drop([\"Ticket\",\"Cabin\",\"Name\",\"PassengerId\"],axis =1)\n",
    "    cols = [\"SibSp\",\"Parch\",\"Fare\",\"Age\"]\n",
    "    for col in cols:\n",
    "        train[col].fillna(train[col].median(),inplace = True)\n",
    "    train.Embarked.fillna(\"U\",inplace = True)\n",
    "    return train\n",
    "train = clean(train)\n",
    "test =  clean(test)"
   ],
   "outputs": [],
   "metadata": {}
  },
  {
   "cell_type": "code",
   "execution_count": null,
   "source": [
    "from sklearn import preprocessing\n",
    "ls = preprocessing.LabelEncoder()\n",
    "cols = [\"Sex\" , \"Embarked\" ]\n",
    "for col in cols:\n",
    "    train[col] = ls.fit_transform(train[col])\n",
    "    test[col] = ls.fit_transform(test[col])\n",
    "    print(ls.classes_)\n",
    "train.head(5)"
   ],
   "outputs": [],
   "metadata": {}
  },
  {
   "cell_type": "code",
   "execution_count": null,
   "source": [
    "from sklearn.linear_model import LogisticRegression\n",
    "from sklearn.model_selection import train_test_split\n",
    "Y = train[\"Survived\"]\n",
    "X = train.drop(\"Survived\",axis = 1)\n",
    "X_train,X_val,Y_train,Y_val = train_test_split(X,Y,test_size = 0.2,random_state = 42)"
   ],
   "outputs": [],
   "metadata": {}
  },
  {
   "cell_type": "code",
   "execution_count": null,
   "source": [
    "clf = LogisticRegression(random_state = 0, max_iter = 1000).fit(X_train,Y_train)"
   ],
   "outputs": [],
   "metadata": {}
  },
  {
   "cell_type": "code",
   "execution_count": null,
   "source": [
    "predictions = clf.predict(X_val)\n",
    "from sklearn.metrics import accuracy_score\n",
    "accuracy_score(Y_val,predictions)"
   ],
   "outputs": [],
   "metadata": {}
  },
  {
   "cell_type": "code",
   "execution_count": null,
   "source": [
    "submission_preds = clf.predict(test)"
   ],
   "outputs": [],
   "metadata": {}
  },
  {
   "cell_type": "code",
   "execution_count": null,
   "source": [
    "df = pd.DataFrame({\"PassengerId\":test_ids.values,\n",
    "                   \"Survived\": submission_preds,\n",
    "                  })"
   ],
   "outputs": [],
   "metadata": {}
  },
  {
   "cell_type": "code",
   "execution_count": null,
   "source": [
    "df.to_csv(\"submission.csv\",index = False)"
   ],
   "outputs": [],
   "metadata": {}
  }
 ],
 "metadata": {
  "orig_nbformat": 4,
  "language_info": {
   "name": "python",
   "version": "3.10.0",
   "mimetype": "text/x-python",
   "codemirror_mode": {
    "name": "ipython",
    "version": 3
   },
   "pygments_lexer": "ipython3",
   "nbconvert_exporter": "python",
   "file_extension": ".py"
  },
  "kernelspec": {
   "name": "python3",
   "display_name": "Python 3.7.8 64-bit"
  },
  "interpreter": {
   "hash": "aee8b7b246df8f9039afb4144a1f6fd8d2ca17a180786b69acc140d282b71a49"
  }
 },
 "nbformat": 4,
 "nbformat_minor": 2
}